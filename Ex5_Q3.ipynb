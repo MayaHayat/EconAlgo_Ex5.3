{
  "nbformat": 4,
  "nbformat_minor": 0,
  "metadata": {
    "colab": {
      "provenance": [],
      "authorship_tag": "ABX9TyNFZq59wujQaxQp0MaBRwCp",
      "include_colab_link": true
    },
    "kernelspec": {
      "name": "python3",
      "display_name": "Python 3"
    },
    "language_info": {
      "name": "python"
    }
  },
  "cells": [
    {
      "cell_type": "markdown",
      "metadata": {
        "id": "view-in-github",
        "colab_type": "text"
      },
      "source": [
        "<a href=\"https://colab.research.google.com/github/MayaHayat/EconAlgo_Ex5.3/blob/main/Ex5_Q3.ipynb\" target=\"_parent\"><img src=\"https://colab.research.google.com/assets/colab-badge.svg\" alt=\"Open In Colab\"/></a>"
      ]
    },
    {
      "cell_type": "code",
      "execution_count": null,
      "metadata": {
        "id": "rDpB8FFECDmH"
      },
      "outputs": [],
      "source": [
        "import networkx as nx\n",
        "import matplotlib.pyplot as plt\n",
        "import numpy as np\n",
        "import math\n",
        "import doctest"
      ]
    },
    {
      "cell_type": "markdown",
      "source": [
        "# Part A"
      ],
      "metadata": {
        "id": "Y5y2uFtEc3oX"
      }
    },
    {
      "cell_type": "markdown",
      "source": [
        "Create a graph with #players nodes, where each directed edge respresents the minimum valuation ratio of the taken items."
      ],
      "metadata": {
        "id": "hqVqbxTUcQHo"
      }
    },
    {
      "cell_type": "code",
      "source": [
        "def create_exchange_graph(valuations: list[list[float]], allocation: list[list[float]]):\n",
        "    \"\"\"\n",
        "    Create a directed graph representing the exchange relationships between players based on valuations and allocation.\n",
        "\n",
        "    Parameters:\n",
        "    - valuations (list[list[float]]): List of lists representing valuations of players for each resource.\n",
        "    - allocation (list[list[float]]): List of lists representing the allocation of resources to players.\n",
        "\n",
        "    Returns:\n",
        "    - nx.DiGraph: Directed graph representing exchange relationships between players.\n",
        "\n",
        "    Examples:\n",
        "    >>> valuations = [[10, 20, 30, 40], [40, 30, 20, 10]]\n",
        "    >>> allocation = [[0, 0.7, 1, 1], [1, 0.3, 0, 0]]\n",
        "    >>> graph = create_exchange_graph(valuations, allocation)\n",
        "    >>> isinstance(graph, nx.DiGraph)\n",
        "    True\n",
        "    >>> graph.edges(data=True)\n",
        "    OutEdgeDataView([('Player_0', 'Player_1', {'weight': 0.6666666666666666}), ('Player_1', 'Player_0', {'weight': 1.5})])\n",
        "\n",
        "    >>> valuations2 = [[3, 6, 1], [6, 1, 3], [1, 3, 6]]\n",
        "    >>> allocation2 = [[1, 0, 0], [0, 0, 1], [0, 1, 0]]\n",
        "    >>> graph2 = create_exchange_graph(valuations2, allocation2)\n",
        "    >>> isinstance(graph2, nx.DiGraph)\n",
        "    True\n",
        "    >>> graph2.edges(data=True)\n",
        "    OutEdgeDataView([('Player_0', 'Player_1', {'weight': 0.5}), ('Player_0', 'Player_2', {'weight': 3.0}), ('Player_1', 'Player_0', {'weight': 3.0}), ('Player_1', 'Player_2', {'weight': 0.5}), ('Player_2', 'Player_0', {'weight': 0.5}), ('Player_2', 'Player_1', {'weight': 3.0})])\n",
        "    \"\"\"\n",
        "\n",
        "\n",
        "    G = nx.DiGraph()\n",
        "\n",
        "    num_players = len(valuations)\n",
        "    num_resources = len(valuations[0])\n",
        "\n",
        "    # Create nodes for players\n",
        "    for i in range(num_players):\n",
        "        G.add_node(f\"Player_{i}\")\n",
        "\n",
        "    # Calculate and add weighted edges between players\n",
        "    for i in range(num_players):\n",
        "        for j in range(i+1, num_players):\n",
        "            min_valuation_ratio_i = min(valuations[i][k] / valuations[j][k] for k in range(num_resources) if allocation[i][k] > 0)\n",
        "            min_valuation_ratio_j = min(valuations[j][k] / valuations[i][k] for k in range(num_resources) if allocation[j][k] > 0)\n",
        "            G.add_edge(f\"Player_{i}\", f\"Player_{j}\", weight=min_valuation_ratio_i)\n",
        "            G.add_edge(f\"Player_{j}\", f\"Player_{i}\", weight= min_valuation_ratio_j)\n",
        "\n",
        "\n",
        "    return G\n"
      ],
      "metadata": {
        "id": "1_M6J7nmSgKh"
      },
      "execution_count": null,
      "outputs": []
    },
    {
      "cell_type": "markdown",
      "source": [
        "Make sure there are no cycles with negative edges product."
      ],
      "metadata": {
        "id": "P7uySLfGcmS3"
      }
    },
    {
      "cell_type": "code",
      "source": [
        "def is_pareto_efficient(valuations, allocation):\n",
        "    \"\"\"\n",
        "    Check if an allocation is Pareto efficient using the exchange graph.\n",
        "\n",
        "    Args:\n",
        "    - valuations (list[list[float]]): List of valuations for each player.\n",
        "    - allocation (list[list[float]]): Current allocation matrix.\n",
        "\n",
        "    Returns:\n",
        "    - bool: True if the allocation is Pareto efficient, False otherwise.\n",
        "\n",
        "    Examples:\n",
        "    >>> is_pareto_efficient([[10, 20, 30, 40], [40, 30, 20, 10]], [[0, 0.7, 1, 1], [1, 0.3, 0, 0]])\n",
        "    True\n",
        "\n",
        "    >>> is_pareto_efficient([[10, 20, 30, 40], [40, 30, 20, 10]], [[0.5, 1, 0, 1], [0.5, 0, 1, 0]])\n",
        "    False\n",
        "\n",
        "    >>> is_pareto_efficient([[3,6,1],[6,1,3],[1,3,6]], [[0,1,0],[1,0,0],[0,0,1]])\n",
        "    True\n",
        "\n",
        "    >>> is_pareto_efficient([[3,6,1],[6,1,3],[1,3,6]], [[1,0,0],[0,0,1],[0,1,0]])\n",
        "    False\n",
        "    \"\"\"\n",
        "\n",
        "    if all(all(alloc == 0 for alloc in player_alloc) for player_alloc in allocation):\n",
        "        return False\n",
        "\n",
        "    G = create_exchange_graph(valuations, allocation)\n",
        "    # Convert edge weights to logarithmic values\n",
        "    for edge in G.edges():\n",
        "        G[edge[0]][edge[1]]['weight'] = math.log(G[edge[0]][edge[1]]['weight'])\n",
        "\n",
        "    # Check for negative cycles using Bellman-Ford algorithm\n",
        "    negative_cycle = nx.negative_edge_cycle(G, weight = 'weight')\n",
        "    return not negative_cycle"
      ],
      "metadata": {
        "id": "HvKUYi5j5Rfw"
      },
      "execution_count": null,
      "outputs": []
    },
    {
      "cell_type": "markdown",
      "source": [
        "# Part B"
      ],
      "metadata": {
        "id": "OJH_A9RTc1UA"
      }
    },
    {
      "cell_type": "code",
      "source": [
        "def improve_pareto(valuations: list[list[float]], allocation: list[list[float]]):\n",
        "\n",
        "    \"\"\"\n",
        "    Improve a given allocation to achieve Pareto efficiency.\n",
        "\n",
        "    Args:\n",
        "    - valuations (list[list[float]]): List of valuations for each player.\n",
        "    - allocation (list[list[float]]): Current allocation matrix.\n",
        "\n",
        "    Returns:\n",
        "    - list[list[float]]: Improved Pareto efficient allocation.\n",
        "\n",
        "    Examples:\n",
        "    >>> improve_pareto([[10, 20, 30, 40], [40, 30, 20, 10]], [[0.5, 1, 0, 1], [0.5, 0, 1, 0]])\n",
        "    [[0.0, 0.5, 1.0, 1], [1.0, 0.5, 0.0, 0]]\n",
        "\n",
        "    >>> improve_pareto([[10, 20, 30, 40], [40, 30, 20, 10]], [[0, 0.7, 1, 1], [1, 0.3, 0, 0]])\n",
        "    [[0, 0.7, 1, 1], [1, 0.3, 0, 0]]\n",
        "\n",
        "    >>> improve_pareto([[10, 20, 30, 40], [40, 30, 20, 10]], [[0, 0.5, 1, 1], [1, 0.5, 0, 0]])\n",
        "    [[0, 0.5, 1, 1], [1, 0.5, 0, 0]]\n",
        "\n",
        "    >>> improve_pareto([[3, 6, 1], [6, 1, 3], [1, 3, 6]], [[0, 1, 0], [1, 0, 0], [0, 0, 1]])\n",
        "    [[0, 1, 0], [1, 0, 0], [0, 0, 1]]\n",
        "\n",
        "    >>> improve_pareto([[5, 10, 15], [15, 5, 10]], [[0.2, 1, 0], [0.8, 0, 1]])\n",
        "    [[0.0, 1, 0.2], [1.0, 0, 0.8]]\n",
        "\n",
        "    >>> improve_pareto([[8, 12], [12, 8]], [[1, 0],[0, 1]])\n",
        "    [[0.0, 1.0], [1.0, 0.0]]\n",
        "    \"\"\"\n",
        "\n",
        "\n",
        "    num_players = len(valuations)\n",
        "    num_resources = len(valuations[0])\n",
        "\n",
        "    improved_allocation = [row.copy() for row in allocation]\n",
        "    epsilon = 0.1\n",
        "\n",
        "    while not is_pareto_efficient(valuations, improved_allocation):\n",
        "        current = create_exchange_graph(valuations, improved_allocation)\n",
        "\n",
        "        # Iterate through each player\n",
        "        for i in range(num_players):\n",
        "            positive_allocation_resources = [k for k in range(num_resources) if improved_allocation[i][k] >= epsilon]\n",
        "\n",
        "            # If there are positive allocation resources, choose the one with the minimum valuation\n",
        "            if positive_allocation_resources:\n",
        "                min_valuation_resource = min(positive_allocation_resources, key=lambda k: valuations[i][k])\n",
        "\n",
        "            # Transfer a small portion (ε) of the minimum valuation resource to the next player\n",
        "            improved_allocation[i][min_valuation_resource] = round(improved_allocation[i][min_valuation_resource] - epsilon, 2)\n",
        "            improved_allocation[(i + 1) % num_players][min_valuation_resource] = round(improved_allocation[(i + 1) % num_players][min_valuation_resource] + epsilon, 2)\n",
        "\n",
        "    return improved_allocation\n"
      ],
      "metadata": {
        "id": "r8tm7C8ZGtGx"
      },
      "execution_count": null,
      "outputs": []
    },
    {
      "cell_type": "code",
      "source": [
        "if __name__ == \"__main__\":\n",
        "  doctest.testmod()"
      ],
      "metadata": {
        "id": "0JmFOGLCJq8H"
      },
      "execution_count": null,
      "outputs": []
    },
    {
      "cell_type": "code",
      "source": [],
      "metadata": {
        "id": "QEmcPQfKLi0o"
      },
      "execution_count": null,
      "outputs": []
    }
  ]
}